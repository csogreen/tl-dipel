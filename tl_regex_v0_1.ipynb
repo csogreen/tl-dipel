{
  "cells": [
    {
      "cell_type": "markdown",
      "source": [
        "Initial setting:\n",
        "- imports packages: pandas for sheets, sklearn for MI score, math for log, re for regex search\n",
        "- picks up csv from Google sheets, cleans it, and converts table values to variables\n",
        "- defines test function from original notebook"
      ],
      "metadata": {
        "id": "7Qsn-724KLMX"
      }
    },
    {
      "cell_type": "code",
      "execution_count": null,
      "metadata": {
        "id": "oOiH6NHYBCox"
      },
      "outputs": [],
      "source": [
        "import pandas as pd\n",
        "from sklearn.metrics import mutual_info_score\n",
        "from scipy.stats import entropy\n",
        "import math, re\n",
        "from itertools import combinations, permutations\n",
        "import math\n",
        "\n",
        "sheet_id = \"1cB2M-EWl2xwBToBXg9GkEsd2w6tw_coCFkXXtV8Sqmc\"\n",
        "url = f\"https://docs.google.com/spreadsheets/d/{sheet_id}/gviz/tq?tqx=out:csv\"\n",
        "df = pd.read_csv(url)\n",
        "df.pop(\"idx\");\n",
        "\n",
        "signals, categories = df[['msg', 'cat']].to_numpy().T\n",
        "signals = [\"\".join([f\"/{i}/\" for i in signal.split()]) for signal in signals]\n",
        "\n",
        "def format_n(x, n=1):\n",
        "  formatted_value = f\"%.{math.ceil(-math.log(x, 10)) + n - 1}f\" % x\n",
        "  return formatted_value\n",
        "\n",
        "from collections import Counter\n",
        "# categories: list[?]\n",
        "def get_entropy(categories):\n",
        "  counter = Counter(categories)\n",
        "  total = counter.total()\n",
        "  return entropy([(counter[x] / total) for x in counter])\n",
        "\n",
        "# In all cases below, `feature_f` is a func[string, bool].\n",
        "def test_feature(categories, signals=None, feature_f=None, features=None, normalized=False):\n",
        "  assert (feature_f is None) or (features is None) # Either provide a feature function or directly provide features.\n",
        "  assert (feature_f is not None) or (features is not None) # Do not both provide a feature function and directly provide features.\n",
        "  assert (feature_f is None) == (signals is None) # Provide signals if and only if you provide a feature function.\n",
        "\n",
        "  if(features is None): features = [feature_f(signal) for signal in signals]\n",
        "\n",
        "  #print(features, categories)\n",
        "  #print(normalized, mutual_info_score(features, categories), get_entropy(features))\n",
        "  if(normalized):\n",
        "    e = get_entropy(features)\n",
        "    if(e > 0.0): return mutual_info_score(features, categories) / e # output in [0, 1], proposition of the entropy of the features.\n",
        "    else: return -1\n",
        "  else: return mutual_info_score(features, categories) / math.log(2) # output in bits\n",
        "\n",
        "elements = ['/1/', '/2/', '/4/', '/5/', '/6/', '/9/', '/10/', '/11/', '/12/', '/13/', '/14/', '/15/']\n",
        "elements_parentheses = ['(/1/)', '(/2/)', '(/4/)', '(/5/)', '(/6/)', '(/9/)', '(/10/)', '(/11/)', '(/12/)', '(/13/)', '(/14/)', '(/15/)']\n",
        "multiples = ['{1}', '{2}', '{3}', '{4}', '{5}', '{6}', '{7}', '{8}']"
      ]
    },
    {
      "cell_type": "code",
      "source": [
        "mi = test_feature(feature_f=(lambda signal, pat='(/4/){6}': re.search(pat,signal) is not None), signals=signals, categories=categories, normalized=True)\n",
        "print(mi)"
      ],
      "metadata": {
        "colab": {
          "base_uri": "https://localhost:8080/"
        },
        "id": "pJLsSnfq381I",
        "outputId": "e6267f1f-38be-475a-ef85-30f67737585e"
      },
      "execution_count": null,
      "outputs": [
        {
          "output_type": "stream",
          "name": "stdout",
          "text": [
            "0.8760351920123253\n"
          ]
        }
      ]
    },
    {
      "cell_type": "code",
      "source": [
        "mi = test_feature(feature_f=(lambda signal, pat='/12/|/3/': re.search(pat,signal) is not None), signals=signals, categories=categories)\n",
        "print(mi)"
      ],
      "metadata": {
        "colab": {
          "base_uri": "https://localhost:8080/"
        },
        "id": "irS47s8Zy4lO",
        "outputId": "f9870dfc-8190-431b-88fb-ab703829f342"
      },
      "execution_count": null,
      "outputs": [
        {
          "output_type": "stream",
          "name": "stdout",
          "text": [
            "0.908618915835874\n"
          ]
        }
      ]
    },
    {
      "cell_type": "code",
      "source": [
        "mi = test_feature(feature_f=(lambda signal, pat=r'(?=.*/12/)(?=.*/1/).*': re.search(pat,signal) is not None), signals=signals, categories=categories)\n",
        "print(mi)"
      ],
      "metadata": {
        "colab": {
          "base_uri": "https://localhost:8080/"
        },
        "id": "7CruIKsX4Rg1",
        "outputId": "41370981-f0e2-445d-df45-81ffbf50c373"
      },
      "execution_count": null,
      "outputs": [
        {
          "output_type": "stream",
          "name": "stdout",
          "text": [
            "0.6463557316915962\n"
          ]
        }
      ]
    },
    {
      "cell_type": "code",
      "source": [
        "mi = test_feature(feature_f=(lambda signal, pat='/12/+/5/': re.search(pat,signal) is not None), signals=signals, categories=categories)\n",
        "print(mi)"
      ],
      "metadata": {
        "colab": {
          "base_uri": "https://localhost:8080/"
        },
        "id": "MhW_FWaN4Dop",
        "outputId": "fd7978e7-8f03-4fb7-f439-8981c57e7b93"
      },
      "execution_count": null,
      "outputs": [
        {
          "output_type": "stream",
          "name": "stdout",
          "text": [
            "0.2989886452744029\n"
          ]
        }
      ]
    },
    {
      "cell_type": "code",
      "source": [
        "mi = test_feature(feature_f=(lambda signal, pat='(/12//1/){4}': re.search(pat,signal) is not None), signals=signals, categories=categories)\n",
        "print(mi)"
      ],
      "metadata": {
        "colab": {
          "base_uri": "https://localhost:8080/"
        },
        "id": "JMaEyZ1k5kZW",
        "outputId": "7b7348b1-85df-4cbc-c190-948b3e699e6d"
      },
      "execution_count": null,
      "outputs": [
        {
          "output_type": "stream",
          "name": "stdout",
          "text": [
            "0.000606597373548794\n"
          ]
        }
      ]
    },
    {
      "cell_type": "markdown",
      "source": [
        "### Conjunctions, disjunctions (whole set)"
      ],
      "metadata": {
        "id": "i5uDbh4zuGnQ"
      }
    },
    {
      "cell_type": "code",
      "source": [
        "# regex disjunction: |\n",
        "# regex conjunction: assert that pattern is in the same string as another with (?=pattern)\n",
        "#                    r'(?=.*a)(?=.*b).*' a string that contains a and b in any order\n",
        "#                    r'^.*a.*b.*$'       a string that contains a followed by b"
      ],
      "metadata": {
        "id": "bGiLD7UvuGTg"
      },
      "execution_count": null,
      "outputs": []
    },
    {
      "cell_type": "code",
      "source": [
        "def test_all_unordered_conjunctions(elements, max_drop=None, verbose=False):\n",
        "  '''\n",
        "  TODO\n",
        "  '''\n",
        "  output = []\n",
        "  for ele, els in combinations(elements, 2):\n",
        "      if ele == els:\n",
        "        continue\n",
        "      else:\n",
        "        pattern = r'(?=.*' + re.escape(ele) + r')(?=.*' + re.escape(els) + r').*'\n",
        "        mi_both = test_feature(feature_f=(lambda signal, pat=pattern: re.search(pat,signal) is not None), signals=signals, categories=categories, normalized=True)\n",
        "        mi_first = test_feature(feature_f=(lambda signal, pat=ele: re.search(pat,signal) is not None), signals=signals, categories=categories, normalized=True)\n",
        "        mi_second = test_feature(feature_f=(lambda signal, pat=els: re.search(pat,signal) is not None), signals=signals, categories=categories, normalized=True)\n",
        "        if verbose:\n",
        "          print(f'Checking conjunction of {ele} ({format_n(mi_first,n=4)}) and {els} ({format_n(mi_second,n=4)}): {format_n(mi_both,n=4) if mi_both > 0 else mi_both}')\n",
        "        if mi_both > mi_first and mi_both > mi_second:\n",
        "          output.append(f'for {ele}&{els} mi is {format_n(mi_both,n=4)}, larger than {ele}: {format_n(mi_first,4)} or {els}: {format_n(mi_second,4)}')\n",
        "          if verbose:\n",
        "            print('Success')\n",
        "        elif mi_both == mi_first and mi_first > mi_second:\n",
        "          output.append(f'for {ele}&{els} mi is equal to just {ele}, which is {mi_first:.4f}')\n",
        "        elif mi_both == mi_second and mi_second > mi_first:\n",
        "          output.append(f'for {ele}&{els} mi is equal to just {els}, which is {mi_second:.4f}')\n",
        "        elif max_drop is not None and (mi_both > (mi_first - max_drop) or mi_both > (mi_second - max_drop)):\n",
        "          output.append(f'for {ele}&{els} mi is high ({format_n(mi_both,n=4)}) considering {ele}: {format_n(mi_first,n=4)} and {els}: {format_n(mi_second,n=4)}')\n",
        "        else:\n",
        "          continue\n",
        "  return output"
      ],
      "metadata": {
        "id": "L4bbLE-P0o__"
      },
      "execution_count": null,
      "outputs": []
    },
    {
      "cell_type": "code",
      "source": [
        "test_all_unordered_conjunctions(elements, max_drop=0.01, verbose=False)"
      ],
      "metadata": {
        "colab": {
          "base_uri": "https://localhost:8080/"
        },
        "id": "GSq8beZo11-M",
        "outputId": "75d63b3e-6237-41cb-df87-7b9c8e8be811"
      },
      "execution_count": null,
      "outputs": [
        {
          "output_type": "execute_result",
          "data": {
            "text/plain": [
              "['for /1/&/4/ mi is 0.9255, larger than /1/: 0.8286 or /4/: 0.8592',\n",
              " 'for /1/&/9/ mi is high (0.8521) considering /1/: 0.8286 and /9/: 0.9143',\n",
              " 'for /1/&/12/ mi is high (0.8632) considering /1/: 0.8286 and /12/: 0.9128',\n",
              " 'for /1/&/13/ mi is high (0.4309) considering /1/: 0.8286 and /13/: 0.4309',\n",
              " 'for /1/&/14/ mi is high (0.4651) considering /1/: 0.8286 and /14/: 0.4297',\n",
              " 'for /1/&/15/ mi is high (0.3441) considering /1/: 0.8286 and /15/: 0.2971',\n",
              " 'for /2/&/4/ mi is high (0.4679) considering /2/: 0.4679 and /4/: 0.8592',\n",
              " 'for /2/&/9/ mi is high (0.4679) considering /2/: 0.4679 and /9/: 0.9143',\n",
              " 'for /4/&/6/ mi is high (0.6553) considering /4/: 0.8592 and /6/: 0.5378',\n",
              " 'for /4/&/9/ mi is high (0.8522) considering /4/: 0.8592 and /9/: 0.9143',\n",
              " 'for /4/&/14/ mi is high (0.4837) considering /4/: 0.8592 and /14/: 0.4297',\n",
              " 'for /5/&/12/ mi is high (0.8045) considering /5/: 0.8045 and /12/: 0.9128',\n",
              " 'for /6/&/9/ mi is high (0.6553) considering /6/: 0.5378 and /9/: 0.9143',\n",
              " 'for /6/&/15/ mi is high (0.3311) considering /6/: 0.5378 and /15/: 0.2971',\n",
              " 'for /9/&/14/ mi is high (0.4630) considering /9/: 0.9143 and /14/: 0.4297',\n",
              " 'for /10/&/12/ mi is high (0.4405) considering /10/: 0.4405 and /12/: 0.9128',\n",
              " 'for /11/&/12/ mi is high (0.6238) considering /11/: 0.6238 and /12/: 0.9128',\n",
              " 'for /12/&/13/ mi is high (0.4309) considering /12/: 0.9128 and /13/: 0.4309',\n",
              " 'for /12/&/14/ mi is high (0.4509) considering /12/: 0.9128 and /14/: 0.4297',\n",
              " 'for /12/&/15/ mi is high (0.2971) considering /12/: 0.9128 and /15/: 0.2971',\n",
              " 'for /13/&/14/ mi is equal to just /13/, which is 0.4309']"
            ]
          },
          "metadata": {},
          "execution_count": 163
        }
      ]
    },
    {
      "cell_type": "code",
      "source": [
        "def test_all_disjunctions(elements, max_drop=None, verbose=False):\n",
        "  output = []\n",
        "  for ele, els in combinations(elements, 2):\n",
        "    if ele == els:\n",
        "      continue\n",
        "    else:\n",
        "      pattern = ele + '|' + els\n",
        "      mi_both = test_feature(feature_f=(lambda signal, pat=pattern: re.search(pat,signal) is not None), signals=signals, categories=categories, normalized=True)\n",
        "      mi_first = test_feature(feature_f=(lambda signal, pat=ele: re.search(pat,signal) is not None), signals=signals, categories=categories, normalized=True)\n",
        "      mi_second = test_feature(feature_f=(lambda signal, pat=els: re.search(pat,signal) is not None), signals=signals, categories=categories, normalized=True)\n",
        "      if verbose:\n",
        "        print(f'Checking disjunction of {ele} ({format_n(mi_first,n=4)}) and {els} ({format_n(mi_second,n=4)}): {format_n(mi_both,n=4) if mi_both > 0 else mi_both}')\n",
        "      if mi_both > mi_first and mi_both > mi_second:\n",
        "        output.append(f'for {ele}|{els} mi is {format_n(mi_both,n=4)}, larger than {ele}: {format_n(mi_first,4)} or {els}: {format_n(mi_second,4)}')\n",
        "        if verbose:\n",
        "          print('Success')\n",
        "      elif mi_both == mi_first and mi_first > mi_second:\n",
        "        output.append(f'for {ele}|{els} mi is equal to just {ele}, which is {mi_first:.4f}')\n",
        "      elif mi_both == mi_second and mi_second > mi_first:\n",
        "        output.append(f'for {ele}|{els} mi is equal to just {els}, which is {mi_second:.4f}')\n",
        "      elif max_drop is not None and (mi_both > (mi_first - max_drop) or mi_both > (mi_second - max_drop)):\n",
        "        output.append(f'for {ele}|{els} mi is high ({format_n(mi_both,n=4)}) considering {ele}: {format_n(mi_first,n=4)} and {els}: {format_n(mi_second,n=4)}')\n",
        "      else:\n",
        "        continue\n",
        "  return output"
      ],
      "metadata": {
        "id": "vqe2LdLEyBpI"
      },
      "execution_count": null,
      "outputs": []
    },
    {
      "cell_type": "code",
      "source": [
        "test_all_disjunctions(elements, max_drop=0.05)"
      ],
      "metadata": {
        "colab": {
          "base_uri": "https://localhost:8080/"
        },
        "id": "L8MMWPkJwhpf",
        "outputId": "083d5fda-e8d9-4db6-f32c-76c3eca476b3"
      },
      "execution_count": null,
      "outputs": [
        {
          "output_type": "execute_result",
          "data": {
            "text/plain": [
              "['for /1/|/2/ mi is 0.8289, larger than /1/: 0.8286 or /2/: 0.4679',\n",
              " 'for /1/|/4/ mi is high (0.8330) considering /1/: 0.8286 and /4/: 0.8592',\n",
              " 'for /1/|/5/ mi is high (0.8064) considering /1/: 0.8286 and /5/: 0.8045',\n",
              " 'for /1/|/6/ mi is 0.8394, larger than /1/: 0.8286 or /6/: 0.5378',\n",
              " 'for /1/|/9/ mi is high (0.8423) considering /1/: 0.8286 and /9/: 0.9143',\n",
              " 'for /1/|/10/ mi is high (0.8263) considering /1/: 0.8286 and /10/: 0.4405',\n",
              " 'for /1/|/11/ mi is 0.8291, larger than /1/: 0.8286 or /11/: 0.6238',\n",
              " 'for /1/|/12/ mi is high (0.8117) considering /1/: 0.8286 and /12/: 0.9128',\n",
              " 'for /1/|/13/ mi is equal to just /1/, which is 0.8286',\n",
              " 'for /1/|/14/ mi is high (0.8112) considering /1/: 0.8286 and /14/: 0.4297',\n",
              " 'for /1/|/15/ mi is high (0.8283) considering /1/: 0.8286 and /15/: 0.2971',\n",
              " 'for /2/|/4/ mi is equal to just /4/, which is 0.8592',\n",
              " 'for /2/|/5/ mi is high (0.7854) considering /2/: 0.4679 and /5/: 0.8045',\n",
              " 'for /2/|/6/ mi is 0.5637, larger than /2/: 0.4679 or /6/: 0.5378',\n",
              " 'for /2/|/9/ mi is equal to just /9/, which is 0.9143',\n",
              " 'for /2/|/10/ mi is high (0.3957) considering /2/: 0.4679 and /10/: 0.4405',\n",
              " 'for /2/|/11/ mi is high (0.5927) considering /2/: 0.4679 and /11/: 0.6238',\n",
              " 'for /2/|/12/ mi is high (0.9043) considering /2/: 0.4679 and /12/: 0.9128',\n",
              " 'for /2/|/13/ mi is high (0.3889) considering /2/: 0.4679 and /13/: 0.4309',\n",
              " 'for /2/|/14/ mi is high (0.4025) considering /2/: 0.4679 and /14/: 0.4297',\n",
              " 'for /2/|/15/ mi is high (0.3546) considering /2/: 0.4679 and /15/: 0.2971',\n",
              " 'for /4/|/5/ mi is high (0.8464) considering /4/: 0.8592 and /5/: 0.8045',\n",
              " 'for /4/|/6/ mi is high (0.8380) considering /4/: 0.8592 and /6/: 0.5378',\n",
              " 'for /4/|/9/ mi is high (0.8881) considering /4/: 0.8592 and /9/: 0.9143',\n",
              " 'for /4/|/10/ mi is high (0.8422) considering /4/: 0.8592 and /10/: 0.4405',\n",
              " 'for /4/|/11/ mi is high (0.7935) considering /4/: 0.8592 and /11/: 0.6238',\n",
              " 'for /4/|/12/ mi is high (0.8598) considering /4/: 0.8592 and /12/: 0.9128',\n",
              " 'for /4/|/13/ mi is 0.8621, larger than /4/: 0.8592 or /13/: 0.4309',\n",
              " 'for /4/|/14/ mi is high (0.8306) considering /4/: 0.8592 and /14/: 0.4297',\n",
              " 'for /4/|/15/ mi is high (0.8528) considering /4/: 0.8592 and /15/: 0.2971',\n",
              " 'for /5/|/6/ mi is high (0.7167) considering /5/: 0.8045 and /6/: 0.5378',\n",
              " 'for /5/|/9/ mi is high (0.9016) considering /5/: 0.8045 and /9/: 0.9143',\n",
              " 'for /5/|/10/ mi is high (0.7896) considering /5/: 0.8045 and /10/: 0.4405',\n",
              " 'for /5/|/11/ mi is 0.8174, larger than /5/: 0.8045 or /11/: 0.6238',\n",
              " 'for /5/|/12/ mi is equal to just /12/, which is 0.9128',\n",
              " 'for /5/|/13/ mi is high (0.7693) considering /5/: 0.8045 and /13/: 0.4309',\n",
              " 'for /5/|/14/ mi is high (0.6701) considering /5/: 0.8045 and /14/: 0.4297',\n",
              " 'for /5/|/15/ mi is high (0.7901) considering /5/: 0.8045 and /15/: 0.2971',\n",
              " 'for /6/|/9/ mi is high (0.8908) considering /6/: 0.5378 and /9/: 0.9143',\n",
              " 'for /6/|/10/ mi is high (0.4925) considering /6/: 0.5378 and /10/: 0.4405',\n",
              " 'for /6/|/11/ mi is high (0.5292) considering /6/: 0.5378 and /11/: 0.6238',\n",
              " 'for /6/|/12/ mi is high (0.8895) considering /6/: 0.5378 and /12/: 0.9128',\n",
              " 'for /6/|/13/ mi is high (0.4705) considering /6/: 0.5378 and /13/: 0.4309',\n",
              " 'for /6/|/14/ mi is high (0.3975) considering /6/: 0.5378 and /14/: 0.4297',\n",
              " 'for /6/|/15/ mi is high (0.5299) considering /6/: 0.5378 and /15/: 0.2971',\n",
              " 'for /9/|/10/ mi is high (0.8954) considering /9/: 0.9143 and /10/: 0.4405',\n",
              " 'for /9/|/11/ mi is high (0.8477) considering /9/: 0.9143 and /11/: 0.6238',\n",
              " 'for /9/|/12/ mi is high (0.8944) considering /9/: 0.9143 and /12/: 0.9128',\n",
              " 'for /9/|/13/ mi is high (0.8965) considering /9/: 0.9143 and /13/: 0.4309',\n",
              " 'for /9/|/14/ mi is high (0.8648) considering /9/: 0.9143 and /14/: 0.4297',\n",
              " 'for /9/|/15/ mi is high (0.9073) considering /9/: 0.9143 and /15/: 0.2971',\n",
              " 'for /10/|/11/ mi is 0.6262, larger than /10/: 0.4405 or /11/: 0.6238',\n",
              " 'for /10/|/12/ mi is equal to just /12/, which is 0.9128',\n",
              " 'for /10/|/14/ mi is high (0.3832) considering /10/: 0.4405 and /14/: 0.4297',\n",
              " 'for /10/|/15/ mi is high (0.3909) considering /10/: 0.4405 and /15/: 0.2971',\n",
              " 'for /11/|/12/ mi is equal to just /12/, which is 0.9128',\n",
              " 'for /11/|/13/ mi is high (0.5681) considering /11/: 0.6238 and /13/: 0.4309',\n",
              " 'for /11/|/14/ mi is high (0.4720) considering /11/: 0.6238 and /14/: 0.4297',\n",
              " 'for /11/|/15/ mi is high (0.5973) considering /11/: 0.6238 and /15/: 0.2971',\n",
              " 'for /12/|/13/ mi is equal to just /12/, which is 0.9128',\n",
              " 'for /12/|/14/ mi is high (0.9066) considering /12/: 0.9128 and /14/: 0.4297',\n",
              " 'for /12/|/15/ mi is equal to just /12/, which is 0.9128',\n",
              " 'for /13/|/14/ mi is high (0.4297) considering /13/: 0.4309 and /14/: 0.4297',\n",
              " 'for /13/|/15/ mi is high (0.3687) considering /13/: 0.4309 and /15/: 0.2971',\n",
              " 'for /14/|/15/ mi is high (0.4082) considering /14/: 0.4297 and /15/: 0.2971']"
            ]
          },
          "metadata": {},
          "execution_count": 166
        }
      ]
    },
    {
      "cell_type": "markdown",
      "source": [
        "### Semi-Automatic Gram Search"
      ],
      "metadata": {
        "id": "ihGcBr0IXLBT"
      }
    },
    {
      "cell_type": "markdown",
      "source": [
        "[TODO] begs to be a class with `__str__` and `__repr__`"
      ],
      "metadata": {
        "id": "glb8BI2qj451"
      }
    },
    {
      "cell_type": "code",
      "source": [
        "def tester(pattern, signals=signals, categories=categories, normalized=True):\n",
        "  return test_feature(\n",
        "        feature_f=lambda signal, pat=pattern: re.search(pat, signal) is not None,\n",
        "        signals=signals,\n",
        "        categories=categories,\n",
        "        normalized=normalized\n",
        "    )\n",
        "\n",
        "def pattern_maker():\n",
        "  pass\n",
        "\n",
        "def test_ngram(word, normalized=True):\n",
        "  pattern = word # e.g. \"A\", \"AB\", \"ABC\"\n",
        "  return tester(pattern, normalized=normalized)\n",
        "\n",
        "def test_loopy_unigram(letter, normalized=True):\n",
        "  # \"AA*\" matches an initial letter followed by zero or more of the same.\n",
        "  pattern = f\"{letter}({letter})*\" # e.g. \"AA*\"\n",
        "  return tester(pattern, normalized=normalized)\n",
        "\n",
        "def test_bi_loopy_unigram(first_letter, second_letter, normalized=True):\n",
        "  # \"AA*BB*\" matches a run of first_letter followed by a run of second_letter.\n",
        "  pattern = f\"{first_letter}({first_letter})*{second_letter}({second_letter})*\" # e.g. \"AA*BB*\"\n",
        "  return tester(pattern, normalized=normalized)\n",
        "\n",
        "def test_loopy_bigram(word, normalized=True):\n",
        "  # \"AB(AB)*\" matches a bigram followed by zero or more repetitions of it.\n",
        "  pattern = word + \"(\" + word + \")*\" # e.g. \"AB(AB)*\"\n",
        "  return tester(pattern, normalized=normalized)"
      ],
      "metadata": {
        "id": "2JXik3k0XOvs"
      },
      "execution_count": null,
      "outputs": []
    },
    {
      "cell_type": "code",
      "source": [
        "# Unigrams: A\n",
        "# Loopy unigrams: AA*\n",
        "for ele in elements:\n",
        "  assert test_ngram(ele) is not None\n",
        "  assert test_loopy_unigram(ele) is not None\n",
        "\n",
        "# Bigrams: AB\n",
        "# Loopy bigrams: AB(AB)*\n",
        "for ele, els in combinations(elements,2):\n",
        "  assert test_ngram(ele + els, normalized=True) is not None\n",
        "  assert test_loopy_bigram(ele + els) is not None\n",
        "\n",
        "# Trigrams: ABC\n",
        "for ele, els, elm in combinations(elements,3):\n",
        "  assert test_ngram(ele + els + elm, normalized=False) is not None\n",
        "\n",
        "# \"Bi-loopy\" unigrams: AA*BB*\n",
        "for ele, els in permutations(elements,2):\n",
        "  assert test_bi_loopy_unigram(ele, els) is not None"
      ],
      "metadata": {
        "id": "IVx5ZQHibx5N"
      },
      "execution_count": null,
      "outputs": []
    },
    {
      "cell_type": "code",
      "source": [
        "for ele in elements:\n",
        "  result = test_loopy_unigram(ele)\n",
        "  if result != -1:\n",
        "    print(ele + ele + '*', test_loopy_unigram(ele))"
      ],
      "metadata": {
        "colab": {
          "base_uri": "https://localhost:8080/"
        },
        "id": "UQU46c5Pezmo",
        "outputId": "0488c140-f1ca-4220-e0f1-0522089e813e"
      },
      "execution_count": null,
      "outputs": [
        {
          "output_type": "stream",
          "name": "stdout",
          "text": [
            "/1//1/*\n",
            "/1//1/*\n",
            "/1//1/* 0.8542424723130415\n",
            "/2//2/*\n",
            "/4//4/*\n",
            "/4//4/*\n",
            "/4//4/* 0.8405752061940837\n",
            "/5//5/*\n",
            "/5//5/*\n",
            "/5//5/* 0.614839315964898\n",
            "/6//6/*\n",
            "/6//6/*\n",
            "/6//6/* 0.3499693026649984\n",
            "/9//9/*\n",
            "/9//9/*\n",
            "/9//9/* 0.8696683874132017\n",
            "/10//10/*\n",
            "/11//11/*\n",
            "/11//11/*\n",
            "/11//11/* 0.4807277340731558\n",
            "/12//12/*\n",
            "/12//12/*\n",
            "/12//12/* 0.8804740082948771\n",
            "/13//13/*\n",
            "/14//14/*\n",
            "/14//14/*\n",
            "/14//14/* 0.5163534030957602\n",
            "/15//15/*\n"
          ]
        }
      ]
    },
    {
      "cell_type": "code",
      "source": [
        "print(test_ngram('/1/', normalized=True))\n",
        "print(test_loopy_unigram('/1/', normalized=True))"
      ],
      "metadata": {
        "colab": {
          "base_uri": "https://localhost:8080/"
        },
        "id": "lvuAWCTHzE9e",
        "outputId": "810c2a32-bc1b-4a8b-eec9-a9a4f37e6a1b"
      },
      "execution_count": null,
      "outputs": [
        {
          "output_type": "stream",
          "name": "stdout",
          "text": [
            "/1/\n",
            "0.8286055375651996\n",
            "/1/(/1/)*\n",
            "0.8286055375651996\n"
          ]
        }
      ]
    },
    {
      "cell_type": "markdown",
      "source": [
        "### Pattern search"
      ],
      "metadata": {
        "id": "UT2FI-n4ewcw"
      }
    },
    {
      "cell_type": "markdown",
      "source": [
        "Pattern search: <br>\n",
        "We want to look for informative patterns within the messages. The more a pattern corresponds to a characteristic within a category, the higher MI it will yield. <br>\n",
        "We assert the following: <br>\n",
        "- maximum repetition length is 8 (from initial \"brute force\" unigram search);\n",
        "- 0 is trivial: it only occurrs at the end of every message and therefore its MI is 0 bits (always true), so we conclude it is an 'end message' token; we will not look for it;\n",
        "- any other pattern with 0 bits does not exist in the dataset;\n",
        "- a pattern is a combination of n unigrams with 1 to 8 repetitions (1 repetition is the single occurrence of a token);\n",
        "- if n repetitions of a token does not reduce or only slightly reduces MI w.r.t. n-1 repetitions of that token, then it is a loopy pattern on n-1 repetitions of the token (it carries the same categorical information);\n",
        "- for any pattern, we can multiply each component of the pattern to explore the combinations of n x n lengths and repetitions. <br>\n",
        "\n",
        "We predict that:\n",
        "- some shorter patterns will have high MI and reflect a category or a set of categories;\n",
        "- the lengthier the pattern, the more message-specific they will get; therefore, the longest patterns will have low or no MI; for specific semantics, short to medium length patterns will be most informative.\n",
        "\n",
        "This does not consider:\n",
        "- repetitions of two or more letters;\n",
        "- repetitions of patterns that include repetition;\n",
        "- that a tokenizer may be better suited for the task;\n",
        "- that the ultimate goal is to reconstruct a grammar automatically.\n",
        "\n",
        "About patterns:\n",
        "- high numbers of reps likely not more informative than low nbs: (e.g. 12, 12 12; 12 1, 12 1 12 1)\n",
        "- look for conjunctions and disjunctions that increase MI for possible \"synonyms\"\n",
        "- and signals such as 12 x x x 1"
      ],
      "metadata": {
        "id": "xYJJ76UxsbFj"
      }
    },
    {
      "cell_type": "code",
      "source": [
        "elems = ['/1/', '/2/', '/4/', '/5/', '/6/', '/9/', '/10/', '/11/', '/12/', '/13/', '/14/', '/15/']"
      ],
      "metadata": {
        "id": "ak__mtsk2GtW"
      },
      "execution_count": null,
      "outputs": []
    },
    {
      "cell_type": "code",
      "execution_count": null,
      "metadata": {
        "id": "m5g2BcI9rLlj"
      },
      "outputs": [],
      "source": [
        "els = ['(/1/)', '(/2/)', '(/4/)', '(/5/)', '(/6/)', '(/9/)',\n",
        "'(/10/)', '(/11/)', '(/12/)', '(/13/)', '(/14/)', '(/15/)']\n",
        "multiples = ['{1}', '{2}', '{3}', '{4}', '{5}', '{6}', '{7}', '{8}']"
      ]
    },
    {
      "cell_type": "code",
      "source": [
        "from itertools import permutations, product\n",
        "\n",
        "def generate_ordered_ngram_patterns(elements, multiples, n):\n",
        "  \"\"\"\n",
        "  Generates ordered n-gram patterns with multiplier.\n",
        "\n",
        "  elements  - list of tokens\n",
        "  multiples - list of numbers of possible repetitions\n",
        "  n         - n-gram size\n",
        "\n",
        "  Yields a string of tokens with multipliers (regex-style)\n",
        "  \"\"\"\n",
        "  counter = 0\n",
        "  for tokens in permutations(elements, n):\n",
        "    for multi_tuple in product(multiples, repeat=n):  # add multiplier to each token\n",
        "      pattern = ''.join(token + mult for token, mult in zip(tokens, multi_tuple))\n",
        "      yield pattern\n",
        "      counter += 1\n",
        "      if counter % 10000 == 0:\n",
        "        print(f\"generated {counter} patterns\")\n",
        "  print(f\"generated {counter} patterns\")"
      ],
      "metadata": {
        "id": "XCaZBXDUOuRY"
      },
      "execution_count": null,
      "outputs": []
    },
    {
      "cell_type": "code",
      "source": [
        "results = {}\n",
        "for pattern in generate_ordered_ngram_patterns(els, multiples, 2):\n",
        "  mi = test_feature(feature_f=(lambda signal, pat=pattern: re.search(pat,signal) is not None),\n",
        "                    signals=signals, categories=categories)\n",
        "  if mi != 0.0:\n",
        "    results[pattern] = round(mi, 6)"
      ],
      "metadata": {
        "id": "ddlUWDdEHdXs",
        "colab": {
          "base_uri": "https://localhost:8080/",
          "height": 356
        },
        "outputId": "8af4eb11-5607-478a-c59e-a75b9aa55827"
      },
      "execution_count": null,
      "outputs": [
        {
          "output_type": "error",
          "ename": "KeyboardInterrupt",
          "evalue": "",
          "traceback": [
            "\u001b[0;31m---------------------------------------------------------------------------\u001b[0m",
            "\u001b[0;31mKeyboardInterrupt\u001b[0m                         Traceback (most recent call last)",
            "\u001b[0;32m<ipython-input-23-ee5b91ab5059>\u001b[0m in \u001b[0;36m<cell line: 0>\u001b[0;34m()\u001b[0m\n\u001b[1;32m      1\u001b[0m \u001b[0mresults\u001b[0m \u001b[0;34m=\u001b[0m \u001b[0;34m{\u001b[0m\u001b[0;34m}\u001b[0m\u001b[0;34m\u001b[0m\u001b[0;34m\u001b[0m\u001b[0m\n\u001b[1;32m      2\u001b[0m \u001b[0;32mfor\u001b[0m \u001b[0mpattern\u001b[0m \u001b[0;32min\u001b[0m \u001b[0mgenerate_ordered_ngram_patterns\u001b[0m\u001b[0;34m(\u001b[0m\u001b[0mels\u001b[0m\u001b[0;34m,\u001b[0m \u001b[0mmultiples\u001b[0m\u001b[0;34m,\u001b[0m \u001b[0;36m2\u001b[0m\u001b[0;34m)\u001b[0m\u001b[0;34m:\u001b[0m\u001b[0;34m\u001b[0m\u001b[0;34m\u001b[0m\u001b[0m\n\u001b[0;32m----> 3\u001b[0;31m   mi = test_feature(feature_f=(lambda signal, pat=pattern: re.search(pat,signal) is not None),\n\u001b[0m\u001b[1;32m      4\u001b[0m                     signals=signals, categories=categories)\n\u001b[1;32m      5\u001b[0m   \u001b[0;32mif\u001b[0m \u001b[0mmi\u001b[0m \u001b[0;34m!=\u001b[0m \u001b[0;36m0.0\u001b[0m\u001b[0;34m:\u001b[0m\u001b[0;34m\u001b[0m\u001b[0;34m\u001b[0m\u001b[0m\n",
            "\u001b[0;32m<ipython-input-22-5b6a73bd06e2>\u001b[0m in \u001b[0;36mtest_feature\u001b[0;34m(categories, signals, feature_f, features, normalized)\u001b[0m\n\u001b[1;32m     38\u001b[0m     \u001b[0;32mif\u001b[0m\u001b[0;34m(\u001b[0m\u001b[0me\u001b[0m \u001b[0;34m>\u001b[0m \u001b[0;36m0.0\u001b[0m\u001b[0;34m)\u001b[0m\u001b[0;34m:\u001b[0m \u001b[0;32mreturn\u001b[0m \u001b[0mmutual_info_score\u001b[0m\u001b[0;34m(\u001b[0m\u001b[0mfeatures\u001b[0m\u001b[0;34m,\u001b[0m \u001b[0mcategories\u001b[0m\u001b[0;34m)\u001b[0m \u001b[0;34m/\u001b[0m \u001b[0mget_entropy\u001b[0m\u001b[0;34m(\u001b[0m\u001b[0mfeatures\u001b[0m\u001b[0;34m)\u001b[0m \u001b[0;31m# output in [0, 1], proposition of the entropy of the features.\u001b[0m\u001b[0;34m\u001b[0m\u001b[0;34m\u001b[0m\u001b[0m\n\u001b[1;32m     39\u001b[0m     \u001b[0;32melse\u001b[0m\u001b[0;34m:\u001b[0m \u001b[0;32mreturn\u001b[0m \u001b[0;34m-\u001b[0m\u001b[0;36m1\u001b[0m\u001b[0;34m\u001b[0m\u001b[0;34m\u001b[0m\u001b[0m\n\u001b[0;32m---> 40\u001b[0;31m   \u001b[0;32melse\u001b[0m\u001b[0;34m:\u001b[0m \u001b[0;32mreturn\u001b[0m \u001b[0mmutual_info_score\u001b[0m\u001b[0;34m(\u001b[0m\u001b[0mfeatures\u001b[0m\u001b[0;34m,\u001b[0m \u001b[0mcategories\u001b[0m\u001b[0;34m)\u001b[0m \u001b[0;34m/\u001b[0m \u001b[0mmath\u001b[0m\u001b[0;34m.\u001b[0m\u001b[0mlog\u001b[0m\u001b[0;34m(\u001b[0m\u001b[0;36m2\u001b[0m\u001b[0;34m)\u001b[0m \u001b[0;31m# output in bits\u001b[0m\u001b[0;34m\u001b[0m\u001b[0;34m\u001b[0m\u001b[0m\n\u001b[0m\u001b[1;32m     41\u001b[0m \u001b[0;34m\u001b[0m\u001b[0m\n\u001b[1;32m     42\u001b[0m \u001b[0melements\u001b[0m \u001b[0;34m=\u001b[0m \u001b[0;34m[\u001b[0m\u001b[0;34m'/1/'\u001b[0m\u001b[0;34m,\u001b[0m \u001b[0;34m'/2/'\u001b[0m\u001b[0;34m,\u001b[0m \u001b[0;34m'/4/'\u001b[0m\u001b[0;34m,\u001b[0m \u001b[0;34m'/5/'\u001b[0m\u001b[0;34m,\u001b[0m \u001b[0;34m'/6/'\u001b[0m\u001b[0;34m,\u001b[0m \u001b[0;34m'/9/'\u001b[0m\u001b[0;34m,\u001b[0m \u001b[0;34m'/10/'\u001b[0m\u001b[0;34m,\u001b[0m \u001b[0;34m'/11/'\u001b[0m\u001b[0;34m,\u001b[0m \u001b[0;34m'/12/'\u001b[0m\u001b[0;34m,\u001b[0m \u001b[0;34m'/13/'\u001b[0m\u001b[0;34m,\u001b[0m \u001b[0;34m'/14/'\u001b[0m\u001b[0;34m,\u001b[0m \u001b[0;34m'/15/'\u001b[0m\u001b[0;34m]\u001b[0m\u001b[0;34m\u001b[0m\u001b[0;34m\u001b[0m\u001b[0m\n",
            "\u001b[0;32m/usr/local/lib/python3.11/dist-packages/sklearn/utils/_param_validation.py\u001b[0m in \u001b[0;36mwrapper\u001b[0;34m(*args, **kwargs)\u001b[0m\n\u001b[1;32m    214\u001b[0m                     )\n\u001b[1;32m    215\u001b[0m                 ):\n\u001b[0;32m--> 216\u001b[0;31m                     \u001b[0;32mreturn\u001b[0m \u001b[0mfunc\u001b[0m\u001b[0;34m(\u001b[0m\u001b[0;34m*\u001b[0m\u001b[0margs\u001b[0m\u001b[0;34m,\u001b[0m \u001b[0;34m**\u001b[0m\u001b[0mkwargs\u001b[0m\u001b[0;34m)\u001b[0m\u001b[0;34m\u001b[0m\u001b[0;34m\u001b[0m\u001b[0m\n\u001b[0m\u001b[1;32m    217\u001b[0m             \u001b[0;32mexcept\u001b[0m \u001b[0mInvalidParameterError\u001b[0m \u001b[0;32mas\u001b[0m \u001b[0me\u001b[0m\u001b[0;34m:\u001b[0m\u001b[0;34m\u001b[0m\u001b[0;34m\u001b[0m\u001b[0m\n\u001b[1;32m    218\u001b[0m                 \u001b[0;31m# When the function is just a wrapper around an estimator, we allow\u001b[0m\u001b[0;34m\u001b[0m\u001b[0;34m\u001b[0m\u001b[0m\n",
            "\u001b[0;32m/usr/local/lib/python3.11/dist-packages/sklearn/metrics/cluster/_supervised.py\u001b[0m in \u001b[0;36mmutual_info_score\u001b[0;34m(labels_true, labels_pred, contingency)\u001b[0m\n\u001b[1;32m    883\u001b[0m     \"\"\"\n\u001b[1;32m    884\u001b[0m     \u001b[0;32mif\u001b[0m \u001b[0mcontingency\u001b[0m \u001b[0;32mis\u001b[0m \u001b[0;32mNone\u001b[0m\u001b[0;34m:\u001b[0m\u001b[0;34m\u001b[0m\u001b[0;34m\u001b[0m\u001b[0m\n\u001b[0;32m--> 885\u001b[0;31m         \u001b[0mlabels_true\u001b[0m\u001b[0;34m,\u001b[0m \u001b[0mlabels_pred\u001b[0m \u001b[0;34m=\u001b[0m \u001b[0mcheck_clusterings\u001b[0m\u001b[0;34m(\u001b[0m\u001b[0mlabels_true\u001b[0m\u001b[0;34m,\u001b[0m \u001b[0mlabels_pred\u001b[0m\u001b[0;34m)\u001b[0m\u001b[0;34m\u001b[0m\u001b[0;34m\u001b[0m\u001b[0m\n\u001b[0m\u001b[1;32m    886\u001b[0m         \u001b[0mcontingency\u001b[0m \u001b[0;34m=\u001b[0m \u001b[0mcontingency_matrix\u001b[0m\u001b[0;34m(\u001b[0m\u001b[0mlabels_true\u001b[0m\u001b[0;34m,\u001b[0m \u001b[0mlabels_pred\u001b[0m\u001b[0;34m,\u001b[0m \u001b[0msparse\u001b[0m\u001b[0;34m=\u001b[0m\u001b[0;32mTrue\u001b[0m\u001b[0;34m)\u001b[0m\u001b[0;34m\u001b[0m\u001b[0;34m\u001b[0m\u001b[0m\n\u001b[1;32m    887\u001b[0m     \u001b[0;32melse\u001b[0m\u001b[0;34m:\u001b[0m\u001b[0;34m\u001b[0m\u001b[0;34m\u001b[0m\u001b[0m\n",
            "\u001b[0;32m/usr/local/lib/python3.11/dist-packages/sklearn/metrics/cluster/_supervised.py\u001b[0m in \u001b[0;36mcheck_clusterings\u001b[0;34m(labels_true, labels_pred)\u001b[0m\n\u001b[1;32m     49\u001b[0m \u001b[0;34m\u001b[0m\u001b[0m\n\u001b[1;32m     50\u001b[0m     \u001b[0mtype_label\u001b[0m \u001b[0;34m=\u001b[0m \u001b[0mtype_of_target\u001b[0m\u001b[0;34m(\u001b[0m\u001b[0mlabels_true\u001b[0m\u001b[0;34m)\u001b[0m\u001b[0;34m\u001b[0m\u001b[0;34m\u001b[0m\u001b[0m\n\u001b[0;32m---> 51\u001b[0;31m     \u001b[0mtype_pred\u001b[0m \u001b[0;34m=\u001b[0m \u001b[0mtype_of_target\u001b[0m\u001b[0;34m(\u001b[0m\u001b[0mlabels_pred\u001b[0m\u001b[0;34m)\u001b[0m\u001b[0;34m\u001b[0m\u001b[0;34m\u001b[0m\u001b[0m\n\u001b[0m\u001b[1;32m     52\u001b[0m \u001b[0;34m\u001b[0m\u001b[0m\n\u001b[1;32m     53\u001b[0m     \u001b[0;32mif\u001b[0m \u001b[0;34m\"continuous\"\u001b[0m \u001b[0;32min\u001b[0m \u001b[0;34m(\u001b[0m\u001b[0mtype_pred\u001b[0m\u001b[0;34m,\u001b[0m \u001b[0mtype_label\u001b[0m\u001b[0;34m)\u001b[0m\u001b[0;34m:\u001b[0m\u001b[0;34m\u001b[0m\u001b[0;34m\u001b[0m\u001b[0m\n",
            "\u001b[0;32m/usr/local/lib/python3.11/dist-packages/sklearn/utils/multiclass.py\u001b[0m in \u001b[0;36mtype_of_target\u001b[0;34m(y, input_name, raise_unknown)\u001b[0m\n\u001b[1;32m    421\u001b[0m     \u001b[0;32mif\u001b[0m \u001b[0missparse\u001b[0m\u001b[0;34m(\u001b[0m\u001b[0mfirst_row_or_val\u001b[0m\u001b[0;34m)\u001b[0m\u001b[0;34m:\u001b[0m\u001b[0;34m\u001b[0m\u001b[0;34m\u001b[0m\u001b[0m\n\u001b[1;32m    422\u001b[0m         \u001b[0mfirst_row_or_val\u001b[0m \u001b[0;34m=\u001b[0m \u001b[0mfirst_row_or_val\u001b[0m\u001b[0;34m.\u001b[0m\u001b[0mdata\u001b[0m\u001b[0;34m\u001b[0m\u001b[0;34m\u001b[0m\u001b[0m\n\u001b[0;32m--> 423\u001b[0;31m     \u001b[0;32mif\u001b[0m \u001b[0mcached_unique\u001b[0m\u001b[0;34m(\u001b[0m\u001b[0my\u001b[0m\u001b[0;34m)\u001b[0m\u001b[0;34m.\u001b[0m\u001b[0mshape\u001b[0m\u001b[0;34m[\u001b[0m\u001b[0;36m0\u001b[0m\u001b[0;34m]\u001b[0m \u001b[0;34m>\u001b[0m \u001b[0;36m2\u001b[0m \u001b[0;32mor\u001b[0m \u001b[0;34m(\u001b[0m\u001b[0my\u001b[0m\u001b[0;34m.\u001b[0m\u001b[0mndim\u001b[0m \u001b[0;34m==\u001b[0m \u001b[0;36m2\u001b[0m \u001b[0;32mand\u001b[0m \u001b[0mlen\u001b[0m\u001b[0;34m(\u001b[0m\u001b[0mfirst_row_or_val\u001b[0m\u001b[0;34m)\u001b[0m \u001b[0;34m>\u001b[0m \u001b[0;36m1\u001b[0m\u001b[0;34m)\u001b[0m\u001b[0;34m:\u001b[0m\u001b[0;34m\u001b[0m\u001b[0;34m\u001b[0m\u001b[0m\n\u001b[0m\u001b[1;32m    424\u001b[0m         \u001b[0;31m# [1, 2, 3] or [[1., 2., 3]] or [[1, 2]]\u001b[0m\u001b[0;34m\u001b[0m\u001b[0;34m\u001b[0m\u001b[0m\n\u001b[1;32m    425\u001b[0m         \u001b[0;32mreturn\u001b[0m \u001b[0;34m\"multiclass\"\u001b[0m \u001b[0;34m+\u001b[0m \u001b[0msuffix\u001b[0m\u001b[0;34m\u001b[0m\u001b[0;34m\u001b[0m\u001b[0m\n",
            "\u001b[0;32m/usr/local/lib/python3.11/dist-packages/sklearn/utils/_unique.py\u001b[0m in \u001b[0;36mcached_unique\u001b[0;34m(xp, *ys)\u001b[0m\n\u001b[1;32m    103\u001b[0m         \u001b[0mUnique\u001b[0m \u001b[0mvalues\u001b[0m \u001b[0mof\u001b[0m \u001b[0mys\u001b[0m\u001b[0;34m.\u001b[0m\u001b[0;34m\u001b[0m\u001b[0;34m\u001b[0m\u001b[0m\n\u001b[1;32m    104\u001b[0m     \"\"\"\n\u001b[0;32m--> 105\u001b[0;31m     \u001b[0mres\u001b[0m \u001b[0;34m=\u001b[0m \u001b[0mtuple\u001b[0m\u001b[0;34m(\u001b[0m\u001b[0m_cached_unique\u001b[0m\u001b[0;34m(\u001b[0m\u001b[0my\u001b[0m\u001b[0;34m,\u001b[0m \u001b[0mxp\u001b[0m\u001b[0;34m=\u001b[0m\u001b[0mxp\u001b[0m\u001b[0;34m)\u001b[0m \u001b[0;32mfor\u001b[0m \u001b[0my\u001b[0m \u001b[0;32min\u001b[0m \u001b[0mys\u001b[0m\u001b[0;34m)\u001b[0m\u001b[0;34m\u001b[0m\u001b[0;34m\u001b[0m\u001b[0m\n\u001b[0m\u001b[1;32m    106\u001b[0m     \u001b[0;32mif\u001b[0m \u001b[0mlen\u001b[0m\u001b[0;34m(\u001b[0m\u001b[0mres\u001b[0m\u001b[0;34m)\u001b[0m \u001b[0;34m==\u001b[0m \u001b[0;36m1\u001b[0m\u001b[0;34m:\u001b[0m\u001b[0;34m\u001b[0m\u001b[0;34m\u001b[0m\u001b[0m\n\u001b[1;32m    107\u001b[0m         \u001b[0;32mreturn\u001b[0m \u001b[0mres\u001b[0m\u001b[0;34m[\u001b[0m\u001b[0;36m0\u001b[0m\u001b[0;34m]\u001b[0m\u001b[0;34m\u001b[0m\u001b[0;34m\u001b[0m\u001b[0m\n",
            "\u001b[0;32m/usr/local/lib/python3.11/dist-packages/sklearn/utils/_unique.py\u001b[0m in \u001b[0;36m<genexpr>\u001b[0;34m(.0)\u001b[0m\n\u001b[1;32m    103\u001b[0m         \u001b[0mUnique\u001b[0m \u001b[0mvalues\u001b[0m \u001b[0mof\u001b[0m \u001b[0mys\u001b[0m\u001b[0;34m.\u001b[0m\u001b[0;34m\u001b[0m\u001b[0;34m\u001b[0m\u001b[0m\n\u001b[1;32m    104\u001b[0m     \"\"\"\n\u001b[0;32m--> 105\u001b[0;31m     \u001b[0mres\u001b[0m \u001b[0;34m=\u001b[0m \u001b[0mtuple\u001b[0m\u001b[0;34m(\u001b[0m\u001b[0m_cached_unique\u001b[0m\u001b[0;34m(\u001b[0m\u001b[0my\u001b[0m\u001b[0;34m,\u001b[0m \u001b[0mxp\u001b[0m\u001b[0;34m=\u001b[0m\u001b[0mxp\u001b[0m\u001b[0;34m)\u001b[0m \u001b[0;32mfor\u001b[0m \u001b[0my\u001b[0m \u001b[0;32min\u001b[0m \u001b[0mys\u001b[0m\u001b[0;34m)\u001b[0m\u001b[0;34m\u001b[0m\u001b[0;34m\u001b[0m\u001b[0m\n\u001b[0m\u001b[1;32m    106\u001b[0m     \u001b[0;32mif\u001b[0m \u001b[0mlen\u001b[0m\u001b[0;34m(\u001b[0m\u001b[0mres\u001b[0m\u001b[0;34m)\u001b[0m \u001b[0;34m==\u001b[0m \u001b[0;36m1\u001b[0m\u001b[0;34m:\u001b[0m\u001b[0;34m\u001b[0m\u001b[0;34m\u001b[0m\u001b[0m\n\u001b[1;32m    107\u001b[0m         \u001b[0;32mreturn\u001b[0m \u001b[0mres\u001b[0m\u001b[0;34m[\u001b[0m\u001b[0;36m0\u001b[0m\u001b[0;34m]\u001b[0m\u001b[0;34m\u001b[0m\u001b[0;34m\u001b[0m\u001b[0m\n",
            "\u001b[0;32m/usr/local/lib/python3.11/dist-packages/sklearn/utils/_unique.py\u001b[0m in \u001b[0;36m_cached_unique\u001b[0;34m(y, xp)\u001b[0m\n\u001b[1;32m     76\u001b[0m         \u001b[0;32mpass\u001b[0m\u001b[0;34m\u001b[0m\u001b[0;34m\u001b[0m\u001b[0m\n\u001b[1;32m     77\u001b[0m     \u001b[0mxp\u001b[0m\u001b[0;34m,\u001b[0m \u001b[0m_\u001b[0m \u001b[0;34m=\u001b[0m \u001b[0mget_namespace\u001b[0m\u001b[0;34m(\u001b[0m\u001b[0my\u001b[0m\u001b[0;34m,\u001b[0m \u001b[0mxp\u001b[0m\u001b[0;34m=\u001b[0m\u001b[0mxp\u001b[0m\u001b[0;34m)\u001b[0m\u001b[0;34m\u001b[0m\u001b[0;34m\u001b[0m\u001b[0m\n\u001b[0;32m---> 78\u001b[0;31m     \u001b[0;32mreturn\u001b[0m \u001b[0mxp\u001b[0m\u001b[0;34m.\u001b[0m\u001b[0munique_values\u001b[0m\u001b[0;34m(\u001b[0m\u001b[0my\u001b[0m\u001b[0;34m)\u001b[0m\u001b[0;34m\u001b[0m\u001b[0;34m\u001b[0m\u001b[0m\n\u001b[0m\u001b[1;32m     79\u001b[0m \u001b[0;34m\u001b[0m\u001b[0m\n\u001b[1;32m     80\u001b[0m \u001b[0;34m\u001b[0m\u001b[0m\n",
            "\u001b[0;32m/usr/local/lib/python3.11/dist-packages/sklearn/utils/_array_api.py\u001b[0m in \u001b[0;36munique_values\u001b[0;34m(self, x)\u001b[0m\n\u001b[1;32m    414\u001b[0m \u001b[0;34m\u001b[0m\u001b[0m\n\u001b[1;32m    415\u001b[0m     \u001b[0;32mdef\u001b[0m \u001b[0munique_values\u001b[0m\u001b[0;34m(\u001b[0m\u001b[0mself\u001b[0m\u001b[0;34m,\u001b[0m \u001b[0mx\u001b[0m\u001b[0;34m)\u001b[0m\u001b[0;34m:\u001b[0m\u001b[0;34m\u001b[0m\u001b[0;34m\u001b[0m\u001b[0m\n\u001b[0;32m--> 416\u001b[0;31m         \u001b[0;32mreturn\u001b[0m \u001b[0mnumpy\u001b[0m\u001b[0;34m.\u001b[0m\u001b[0munique\u001b[0m\u001b[0;34m(\u001b[0m\u001b[0mx\u001b[0m\u001b[0;34m)\u001b[0m\u001b[0;34m\u001b[0m\u001b[0;34m\u001b[0m\u001b[0m\n\u001b[0m\u001b[1;32m    417\u001b[0m \u001b[0;34m\u001b[0m\u001b[0m\n\u001b[1;32m    418\u001b[0m     \u001b[0;32mdef\u001b[0m \u001b[0munique_all\u001b[0m\u001b[0;34m(\u001b[0m\u001b[0mself\u001b[0m\u001b[0;34m,\u001b[0m \u001b[0mx\u001b[0m\u001b[0;34m)\u001b[0m\u001b[0;34m:\u001b[0m\u001b[0;34m\u001b[0m\u001b[0;34m\u001b[0m\u001b[0m\n",
            "\u001b[0;32m/usr/local/lib/python3.11/dist-packages/numpy/lib/_arraysetops_impl.py\u001b[0m in \u001b[0;36munique\u001b[0;34m(ar, return_index, return_inverse, return_counts, axis, equal_nan)\u001b[0m\n\u001b[1;32m    287\u001b[0m     \u001b[0mar\u001b[0m \u001b[0;34m=\u001b[0m \u001b[0mnp\u001b[0m\u001b[0;34m.\u001b[0m\u001b[0masanyarray\u001b[0m\u001b[0;34m(\u001b[0m\u001b[0mar\u001b[0m\u001b[0;34m)\u001b[0m\u001b[0;34m\u001b[0m\u001b[0;34m\u001b[0m\u001b[0m\n\u001b[1;32m    288\u001b[0m     \u001b[0;32mif\u001b[0m \u001b[0maxis\u001b[0m \u001b[0;32mis\u001b[0m \u001b[0;32mNone\u001b[0m\u001b[0;34m:\u001b[0m\u001b[0;34m\u001b[0m\u001b[0;34m\u001b[0m\u001b[0m\n\u001b[0;32m--> 289\u001b[0;31m         ret = _unique1d(ar, return_index, return_inverse, return_counts, \n\u001b[0m\u001b[1;32m    290\u001b[0m                         equal_nan=equal_nan, inverse_shape=ar.shape, axis=None)\n\u001b[1;32m    291\u001b[0m         \u001b[0;32mreturn\u001b[0m \u001b[0m_unpack_tuple\u001b[0m\u001b[0;34m(\u001b[0m\u001b[0mret\u001b[0m\u001b[0;34m)\u001b[0m\u001b[0;34m\u001b[0m\u001b[0;34m\u001b[0m\u001b[0m\n",
            "\u001b[0;32m/usr/local/lib/python3.11/dist-packages/numpy/lib/_arraysetops_impl.py\u001b[0m in \u001b[0;36m_unique1d\u001b[0;34m(ar, return_index, return_inverse, return_counts, equal_nan, inverse_shape, axis)\u001b[0m\n\u001b[1;32m    354\u001b[0m         \u001b[0maux\u001b[0m \u001b[0;34m=\u001b[0m \u001b[0mar\u001b[0m\u001b[0;34m[\u001b[0m\u001b[0mperm\u001b[0m\u001b[0;34m]\u001b[0m\u001b[0;34m\u001b[0m\u001b[0;34m\u001b[0m\u001b[0m\n\u001b[1;32m    355\u001b[0m     \u001b[0;32melse\u001b[0m\u001b[0;34m:\u001b[0m\u001b[0;34m\u001b[0m\u001b[0;34m\u001b[0m\u001b[0m\n\u001b[0;32m--> 356\u001b[0;31m         \u001b[0mar\u001b[0m\u001b[0;34m.\u001b[0m\u001b[0msort\u001b[0m\u001b[0;34m(\u001b[0m\u001b[0;34m)\u001b[0m\u001b[0;34m\u001b[0m\u001b[0;34m\u001b[0m\u001b[0m\n\u001b[0m\u001b[1;32m    357\u001b[0m         \u001b[0maux\u001b[0m \u001b[0;34m=\u001b[0m \u001b[0mar\u001b[0m\u001b[0;34m\u001b[0m\u001b[0;34m\u001b[0m\u001b[0m\n\u001b[1;32m    358\u001b[0m     \u001b[0mmask\u001b[0m \u001b[0;34m=\u001b[0m \u001b[0mnp\u001b[0m\u001b[0;34m.\u001b[0m\u001b[0mempty\u001b[0m\u001b[0;34m(\u001b[0m\u001b[0maux\u001b[0m\u001b[0;34m.\u001b[0m\u001b[0mshape\u001b[0m\u001b[0;34m,\u001b[0m \u001b[0mdtype\u001b[0m\u001b[0;34m=\u001b[0m\u001b[0mnp\u001b[0m\u001b[0;34m.\u001b[0m\u001b[0mbool\u001b[0m\u001b[0;34m)\u001b[0m\u001b[0;34m\u001b[0m\u001b[0;34m\u001b[0m\u001b[0m\n",
            "\u001b[0;31mKeyboardInterrupt\u001b[0m: "
          ]
        }
      ]
    },
    {
      "cell_type": "code",
      "source": [
        "for reg, score in results.items():\n",
        "  print(f\"{reg},{score}\")"
      ],
      "metadata": {
        "id": "9x5xkWfwQVRm"
      },
      "execution_count": null,
      "outputs": []
    },
    {
      "cell_type": "markdown",
      "source": [
        "### Unique msg / cat"
      ],
      "metadata": {
        "id": "f4Hmw-C2YDmY"
      }
    },
    {
      "cell_type": "code",
      "execution_count": null,
      "metadata": {
        "id": "5E6ulMVgBotq",
        "outputId": "de745c80-965d-4621-f0ca-691bf2c62e0b",
        "colab": {
          "base_uri": "https://localhost:8080/",
          "height": 1000
        }
      },
      "outputs": [
        {
          "output_type": "execute_result",
          "data": {
            "text/plain": [
              "           df_uniques_counts  df_counts  \\\n",
              "cat                                       \n",
              "1 1 1 1 1                  1        277   \n",
              "0 0 0 1 1                  1        237   \n",
              "1 1 0 1 1                  1        264   \n",
              "1 0 0 0 0                  1        270   \n",
              "0 1 0 0 1                  1        235   \n",
              "0 0 0 0 1                  2        254   \n",
              "1 1 1 0 1                  2        251   \n",
              "1 0 1 1 1                  2        252   \n",
              "1 1 0 0 1                  3        233   \n",
              "1 1 1 1 0                  3        255   \n",
              "0 1 1 1 1                  3        248   \n",
              "0 0 1 0 1                  3        250   \n",
              "0 1 0 1 1                  4        273   \n",
              "0 1 1 0 0                  4        284   \n",
              "1 1 0 1 0                  4        276   \n",
              "0 1 0 1 0                  4        244   \n",
              "1 0 0 1 1                  4        243   \n",
              "1 0 1 0 1                  5        245   \n",
              "1 0 0 0 1                  5        255   \n",
              "1 0 1 0 0                  6        236   \n",
              "1 1 1 0 0                  6        267   \n",
              "0 0 0 1 0                  6        269   \n",
              "0 1 1 0 1                  7        248   \n",
              "0 0 1 0 0                  8        301   \n",
              "0 0 0 0 0                  9        255   \n",
              "1 0 0 1 0                 10        247   \n",
              "0 0 1 1 0                 10        260   \n",
              "0 1 0 0 0                 12        225   \n",
              "0 1 1 1 0                 14        241   \n",
              "1 0 1 1 0                 17        269   \n",
              "1 1 0 0 0                 20        262   \n",
              "0 0 1 1 1                 23        266   \n",
              "\n",
              "                                               unique_values  \n",
              "cat                                                           \n",
              "1 1 1 1 1                            [12 12 12 12 12 12 5 0]  \n",
              "0 0 0 1 1                                           [12 1 0]  \n",
              "1 1 0 1 1                                       [12 12 12 0]  \n",
              "1 0 0 0 0                                              [1 0]  \n",
              "0 1 0 0 1                                            [1 4 0]  \n",
              "0 0 0 0 1                          [12 4 0, 4 4 4 4 4 4 4 0]  \n",
              "1 1 1 0 1               [9 9 9 9 9 9 9 1 0, 9 9 9 9 9 9 1 0]  \n",
              "1 0 1 1 1                 [12 9 9 9 9 9 9 0, 12 9 9 9 4 4 0]  \n",
              "1 1 0 0 1  [1 4 0, 12 12 1 12 1 1 1 0, 12 12 12 12 12 12 ...  \n",
              "1 1 1 1 0    [12 12 12 12 12 12 1 1 0, 12 9 4 4 0, 12 9 4 0]  \n",
              "0 1 1 1 1  [12 12 12 12 12 12 12 12 0, 12 12 12 12 12 12 ...  \n",
              "0 0 1 0 1        [9 4 4 4 4 4 4 4 0, 9 9 4 4 4 4 4 4 0, 1 0]  \n",
              "0 1 0 1 1  [12 12 12 0, 1 4 4 0, 12 12 12 12 0, 12 12 12 ...  \n",
              "0 1 1 0 0         [1 1 0, 9 9 9 1 1 0, 1 12 14 0, 9 9 1 1 0]  \n",
              "1 1 0 1 0  [12 12 1 1 1 1 1 0, 12 1 1 1 1 1 0, 12 12 12 1...  \n",
              "0 1 0 1 0  [12 1 1 1 1 1 0, 12 1 1 1 1 0, 12 1 1 0, 12 12...  \n",
              "1 0 0 1 1                         [12 1 0, 12 0, 6 0, 1 1 0]  \n",
              "1 0 1 0 1  [9 9 4 4 4 4 4 4 0, 9 4 4 4 4 4 4 4 0, 9 9 9 4...  \n",
              "1 0 0 0 1  [4 4 4 4 4 4 4 0, 12 4 4 4 0, 4 4 4 4 4 4 0, 1...  \n",
              "1 0 1 0 0  [1 1 1 0, 9 9 9 9 9 9 0, 9 9 9 9 9 0, 9 9 9 9 ...  \n",
              "1 1 1 0 0  [1 1 0, 1 4 0, 1 1 1 0, 1 1 1 1 0, 1 9 14 0, 1...  \n",
              "0 0 0 1 0  [12 0, 6 12 15 0, 1 6 0, 1 0, 1 1 1 1 1 0, 6 1...  \n",
              "0 1 1 0 1  [9 9 9 9 4 4 4 4 0, 9 9 9 9 9 9 9 1 0, 9 9 9 4...  \n",
              "0 0 1 0 0  [9 9 9 4 4 4 4 4 0, 9 9 9 4 9 4 4 4 0, 9 9 9 9...  \n",
              "0 0 0 0 0  [4 4 4 4 4 4 4 0, 4 1 4 0, 1 0, 4 4 4 4 4 4 0,...  \n",
              "1 0 0 1 0  [1 1 1 1 1 0, 1 1 1 1 1 1 0, 1 1 1 1 0, 1 1 0,...  \n",
              "0 0 1 1 0  [12 5 5 0, 12 5 0, 12 9 9 4 4 4 0, 12 9 12 5 4...  \n",
              "0 1 0 0 0  [1 4 4 4 0, 1 4 4 0, 1 12 14 14 14 14 0, 1 12 ...  \n",
              "0 1 1 1 0  [12 12 12 12 12 12 1 1 0, 12 12 12 12 12 12 11...  \n",
              "1 0 1 1 0  [12 12 12 12 12 11 0, 12 5 0, 12 12 12 12 5 0,...  \n",
              "1 1 0 0 0  [12 12 12 12 9 9 0, 12 12 1 12 1 12 1 1 0, 12 ...  \n",
              "0 0 1 1 1  [12 12 12 12 9 9 0, 12 12 9 9 9 9 0, 12 9 9 9 ...  "
            ],
            "text/html": [
              "\n",
              "  <div id=\"df-1f5222f1-019f-4f1e-a549-285653b12d62\" class=\"colab-df-container\">\n",
              "    <div>\n",
              "<style scoped>\n",
              "    .dataframe tbody tr th:only-of-type {\n",
              "        vertical-align: middle;\n",
              "    }\n",
              "\n",
              "    .dataframe tbody tr th {\n",
              "        vertical-align: top;\n",
              "    }\n",
              "\n",
              "    .dataframe thead th {\n",
              "        text-align: right;\n",
              "    }\n",
              "</style>\n",
              "<table border=\"1\" class=\"dataframe\">\n",
              "  <thead>\n",
              "    <tr style=\"text-align: right;\">\n",
              "      <th></th>\n",
              "      <th>df_uniques_counts</th>\n",
              "      <th>df_counts</th>\n",
              "      <th>unique_values</th>\n",
              "    </tr>\n",
              "    <tr>\n",
              "      <th>cat</th>\n",
              "      <th></th>\n",
              "      <th></th>\n",
              "      <th></th>\n",
              "    </tr>\n",
              "  </thead>\n",
              "  <tbody>\n",
              "    <tr>\n",
              "      <th>1 1 1 1 1</th>\n",
              "      <td>1</td>\n",
              "      <td>277</td>\n",
              "      <td>[12 12 12 12 12 12 5 0]</td>\n",
              "    </tr>\n",
              "    <tr>\n",
              "      <th>0 0 0 1 1</th>\n",
              "      <td>1</td>\n",
              "      <td>237</td>\n",
              "      <td>[12 1 0]</td>\n",
              "    </tr>\n",
              "    <tr>\n",
              "      <th>1 1 0 1 1</th>\n",
              "      <td>1</td>\n",
              "      <td>264</td>\n",
              "      <td>[12 12 12 0]</td>\n",
              "    </tr>\n",
              "    <tr>\n",
              "      <th>1 0 0 0 0</th>\n",
              "      <td>1</td>\n",
              "      <td>270</td>\n",
              "      <td>[1 0]</td>\n",
              "    </tr>\n",
              "    <tr>\n",
              "      <th>0 1 0 0 1</th>\n",
              "      <td>1</td>\n",
              "      <td>235</td>\n",
              "      <td>[1 4 0]</td>\n",
              "    </tr>\n",
              "    <tr>\n",
              "      <th>0 0 0 0 1</th>\n",
              "      <td>2</td>\n",
              "      <td>254</td>\n",
              "      <td>[12 4 0, 4 4 4 4 4 4 4 0]</td>\n",
              "    </tr>\n",
              "    <tr>\n",
              "      <th>1 1 1 0 1</th>\n",
              "      <td>2</td>\n",
              "      <td>251</td>\n",
              "      <td>[9 9 9 9 9 9 9 1 0, 9 9 9 9 9 9 1 0]</td>\n",
              "    </tr>\n",
              "    <tr>\n",
              "      <th>1 0 1 1 1</th>\n",
              "      <td>2</td>\n",
              "      <td>252</td>\n",
              "      <td>[12 9 9 9 9 9 9 0, 12 9 9 9 4 4 0]</td>\n",
              "    </tr>\n",
              "    <tr>\n",
              "      <th>1 1 0 0 1</th>\n",
              "      <td>3</td>\n",
              "      <td>233</td>\n",
              "      <td>[1 4 0, 12 12 1 12 1 1 1 0, 12 12 12 12 12 12 ...</td>\n",
              "    </tr>\n",
              "    <tr>\n",
              "      <th>1 1 1 1 0</th>\n",
              "      <td>3</td>\n",
              "      <td>255</td>\n",
              "      <td>[12 12 12 12 12 12 1 1 0, 12 9 4 4 0, 12 9 4 0]</td>\n",
              "    </tr>\n",
              "    <tr>\n",
              "      <th>0 1 1 1 1</th>\n",
              "      <td>3</td>\n",
              "      <td>248</td>\n",
              "      <td>[12 12 12 12 12 12 12 12 0, 12 12 12 12 12 12 ...</td>\n",
              "    </tr>\n",
              "    <tr>\n",
              "      <th>0 0 1 0 1</th>\n",
              "      <td>3</td>\n",
              "      <td>250</td>\n",
              "      <td>[9 4 4 4 4 4 4 4 0, 9 9 4 4 4 4 4 4 0, 1 0]</td>\n",
              "    </tr>\n",
              "    <tr>\n",
              "      <th>0 1 0 1 1</th>\n",
              "      <td>4</td>\n",
              "      <td>273</td>\n",
              "      <td>[12 12 12 0, 1 4 4 0, 12 12 12 12 0, 12 12 12 ...</td>\n",
              "    </tr>\n",
              "    <tr>\n",
              "      <th>0 1 1 0 0</th>\n",
              "      <td>4</td>\n",
              "      <td>284</td>\n",
              "      <td>[1 1 0, 9 9 9 1 1 0, 1 12 14 0, 9 9 1 1 0]</td>\n",
              "    </tr>\n",
              "    <tr>\n",
              "      <th>1 1 0 1 0</th>\n",
              "      <td>4</td>\n",
              "      <td>276</td>\n",
              "      <td>[12 12 1 1 1 1 1 0, 12 1 1 1 1 1 0, 12 12 12 1...</td>\n",
              "    </tr>\n",
              "    <tr>\n",
              "      <th>0 1 0 1 0</th>\n",
              "      <td>4</td>\n",
              "      <td>244</td>\n",
              "      <td>[12 1 1 1 1 1 0, 12 1 1 1 1 0, 12 1 1 0, 12 12...</td>\n",
              "    </tr>\n",
              "    <tr>\n",
              "      <th>1 0 0 1 1</th>\n",
              "      <td>4</td>\n",
              "      <td>243</td>\n",
              "      <td>[12 1 0, 12 0, 6 0, 1 1 0]</td>\n",
              "    </tr>\n",
              "    <tr>\n",
              "      <th>1 0 1 0 1</th>\n",
              "      <td>5</td>\n",
              "      <td>245</td>\n",
              "      <td>[9 9 4 4 4 4 4 4 0, 9 4 4 4 4 4 4 4 0, 9 9 9 4...</td>\n",
              "    </tr>\n",
              "    <tr>\n",
              "      <th>1 0 0 0 1</th>\n",
              "      <td>5</td>\n",
              "      <td>255</td>\n",
              "      <td>[4 4 4 4 4 4 4 0, 12 4 4 4 0, 4 4 4 4 4 4 0, 1...</td>\n",
              "    </tr>\n",
              "    <tr>\n",
              "      <th>1 0 1 0 0</th>\n",
              "      <td>6</td>\n",
              "      <td>236</td>\n",
              "      <td>[1 1 1 0, 9 9 9 9 9 9 0, 9 9 9 9 9 0, 9 9 9 9 ...</td>\n",
              "    </tr>\n",
              "    <tr>\n",
              "      <th>1 1 1 0 0</th>\n",
              "      <td>6</td>\n",
              "      <td>267</td>\n",
              "      <td>[1 1 0, 1 4 0, 1 1 1 0, 1 1 1 1 0, 1 9 14 0, 1...</td>\n",
              "    </tr>\n",
              "    <tr>\n",
              "      <th>0 0 0 1 0</th>\n",
              "      <td>6</td>\n",
              "      <td>269</td>\n",
              "      <td>[12 0, 6 12 15 0, 1 6 0, 1 0, 1 1 1 1 1 0, 6 1...</td>\n",
              "    </tr>\n",
              "    <tr>\n",
              "      <th>0 1 1 0 1</th>\n",
              "      <td>7</td>\n",
              "      <td>248</td>\n",
              "      <td>[9 9 9 9 4 4 4 4 0, 9 9 9 9 9 9 9 1 0, 9 9 9 4...</td>\n",
              "    </tr>\n",
              "    <tr>\n",
              "      <th>0 0 1 0 0</th>\n",
              "      <td>8</td>\n",
              "      <td>301</td>\n",
              "      <td>[9 9 9 4 4 4 4 4 0, 9 9 9 4 9 4 4 4 0, 9 9 9 9...</td>\n",
              "    </tr>\n",
              "    <tr>\n",
              "      <th>0 0 0 0 0</th>\n",
              "      <td>9</td>\n",
              "      <td>255</td>\n",
              "      <td>[4 4 4 4 4 4 4 0, 4 1 4 0, 1 0, 4 4 4 4 4 4 0,...</td>\n",
              "    </tr>\n",
              "    <tr>\n",
              "      <th>1 0 0 1 0</th>\n",
              "      <td>10</td>\n",
              "      <td>247</td>\n",
              "      <td>[1 1 1 1 1 0, 1 1 1 1 1 1 0, 1 1 1 1 0, 1 1 0,...</td>\n",
              "    </tr>\n",
              "    <tr>\n",
              "      <th>0 0 1 1 0</th>\n",
              "      <td>10</td>\n",
              "      <td>260</td>\n",
              "      <td>[12 5 5 0, 12 5 0, 12 9 9 4 4 4 0, 12 9 12 5 4...</td>\n",
              "    </tr>\n",
              "    <tr>\n",
              "      <th>0 1 0 0 0</th>\n",
              "      <td>12</td>\n",
              "      <td>225</td>\n",
              "      <td>[1 4 4 4 0, 1 4 4 0, 1 12 14 14 14 14 0, 1 12 ...</td>\n",
              "    </tr>\n",
              "    <tr>\n",
              "      <th>0 1 1 1 0</th>\n",
              "      <td>14</td>\n",
              "      <td>241</td>\n",
              "      <td>[12 12 12 12 12 12 1 1 0, 12 12 12 12 12 12 11...</td>\n",
              "    </tr>\n",
              "    <tr>\n",
              "      <th>1 0 1 1 0</th>\n",
              "      <td>17</td>\n",
              "      <td>269</td>\n",
              "      <td>[12 12 12 12 12 11 0, 12 5 0, 12 12 12 12 5 0,...</td>\n",
              "    </tr>\n",
              "    <tr>\n",
              "      <th>1 1 0 0 0</th>\n",
              "      <td>20</td>\n",
              "      <td>262</td>\n",
              "      <td>[12 12 12 12 9 9 0, 12 12 1 12 1 12 1 1 0, 12 ...</td>\n",
              "    </tr>\n",
              "    <tr>\n",
              "      <th>0 0 1 1 1</th>\n",
              "      <td>23</td>\n",
              "      <td>266</td>\n",
              "      <td>[12 12 12 12 9 9 0, 12 12 9 9 9 9 0, 12 9 9 9 ...</td>\n",
              "    </tr>\n",
              "  </tbody>\n",
              "</table>\n",
              "</div>\n",
              "    <div class=\"colab-df-buttons\">\n",
              "\n",
              "  <div class=\"colab-df-container\">\n",
              "    <button class=\"colab-df-convert\" onclick=\"convertToInteractive('df-1f5222f1-019f-4f1e-a549-285653b12d62')\"\n",
              "            title=\"Convert this dataframe to an interactive table.\"\n",
              "            style=\"display:none;\">\n",
              "\n",
              "  <svg xmlns=\"http://www.w3.org/2000/svg\" height=\"24px\" viewBox=\"0 -960 960 960\">\n",
              "    <path d=\"M120-120v-720h720v720H120Zm60-500h600v-160H180v160Zm220 220h160v-160H400v160Zm0 220h160v-160H400v160ZM180-400h160v-160H180v160Zm440 0h160v-160H620v160ZM180-180h160v-160H180v160Zm440 0h160v-160H620v160Z\"/>\n",
              "  </svg>\n",
              "    </button>\n",
              "\n",
              "  <style>\n",
              "    .colab-df-container {\n",
              "      display:flex;\n",
              "      gap: 12px;\n",
              "    }\n",
              "\n",
              "    .colab-df-convert {\n",
              "      background-color: #E8F0FE;\n",
              "      border: none;\n",
              "      border-radius: 50%;\n",
              "      cursor: pointer;\n",
              "      display: none;\n",
              "      fill: #1967D2;\n",
              "      height: 32px;\n",
              "      padding: 0 0 0 0;\n",
              "      width: 32px;\n",
              "    }\n",
              "\n",
              "    .colab-df-convert:hover {\n",
              "      background-color: #E2EBFA;\n",
              "      box-shadow: 0px 1px 2px rgba(60, 64, 67, 0.3), 0px 1px 3px 1px rgba(60, 64, 67, 0.15);\n",
              "      fill: #174EA6;\n",
              "    }\n",
              "\n",
              "    .colab-df-buttons div {\n",
              "      margin-bottom: 4px;\n",
              "    }\n",
              "\n",
              "    [theme=dark] .colab-df-convert {\n",
              "      background-color: #3B4455;\n",
              "      fill: #D2E3FC;\n",
              "    }\n",
              "\n",
              "    [theme=dark] .colab-df-convert:hover {\n",
              "      background-color: #434B5C;\n",
              "      box-shadow: 0px 1px 3px 1px rgba(0, 0, 0, 0.15);\n",
              "      filter: drop-shadow(0px 1px 2px rgba(0, 0, 0, 0.3));\n",
              "      fill: #FFFFFF;\n",
              "    }\n",
              "  </style>\n",
              "\n",
              "    <script>\n",
              "      const buttonEl =\n",
              "        document.querySelector('#df-1f5222f1-019f-4f1e-a549-285653b12d62 button.colab-df-convert');\n",
              "      buttonEl.style.display =\n",
              "        google.colab.kernel.accessAllowed ? 'block' : 'none';\n",
              "\n",
              "      async function convertToInteractive(key) {\n",
              "        const element = document.querySelector('#df-1f5222f1-019f-4f1e-a549-285653b12d62');\n",
              "        const dataTable =\n",
              "          await google.colab.kernel.invokeFunction('convertToInteractive',\n",
              "                                                    [key], {});\n",
              "        if (!dataTable) return;\n",
              "\n",
              "        const docLinkHtml = 'Like what you see? Visit the ' +\n",
              "          '<a target=\"_blank\" href=https://colab.research.google.com/notebooks/data_table.ipynb>data table notebook</a>'\n",
              "          + ' to learn more about interactive tables.';\n",
              "        element.innerHTML = '';\n",
              "        dataTable['output_type'] = 'display_data';\n",
              "        await google.colab.output.renderOutput(dataTable, element);\n",
              "        const docLink = document.createElement('div');\n",
              "        docLink.innerHTML = docLinkHtml;\n",
              "        element.appendChild(docLink);\n",
              "      }\n",
              "    </script>\n",
              "  </div>\n",
              "\n",
              "\n",
              "<div id=\"df-33bfeb55-5180-4f47-ad7c-583da6ff667b\">\n",
              "  <button class=\"colab-df-quickchart\" onclick=\"quickchart('df-33bfeb55-5180-4f47-ad7c-583da6ff667b')\"\n",
              "            title=\"Suggest charts\"\n",
              "            style=\"display:none;\">\n",
              "\n",
              "<svg xmlns=\"http://www.w3.org/2000/svg\" height=\"24px\"viewBox=\"0 0 24 24\"\n",
              "     width=\"24px\">\n",
              "    <g>\n",
              "        <path d=\"M19 3H5c-1.1 0-2 .9-2 2v14c0 1.1.9 2 2 2h14c1.1 0 2-.9 2-2V5c0-1.1-.9-2-2-2zM9 17H7v-7h2v7zm4 0h-2V7h2v10zm4 0h-2v-4h2v4z\"/>\n",
              "    </g>\n",
              "</svg>\n",
              "  </button>\n",
              "\n",
              "<style>\n",
              "  .colab-df-quickchart {\n",
              "      --bg-color: #E8F0FE;\n",
              "      --fill-color: #1967D2;\n",
              "      --hover-bg-color: #E2EBFA;\n",
              "      --hover-fill-color: #174EA6;\n",
              "      --disabled-fill-color: #AAA;\n",
              "      --disabled-bg-color: #DDD;\n",
              "  }\n",
              "\n",
              "  [theme=dark] .colab-df-quickchart {\n",
              "      --bg-color: #3B4455;\n",
              "      --fill-color: #D2E3FC;\n",
              "      --hover-bg-color: #434B5C;\n",
              "      --hover-fill-color: #FFFFFF;\n",
              "      --disabled-bg-color: #3B4455;\n",
              "      --disabled-fill-color: #666;\n",
              "  }\n",
              "\n",
              "  .colab-df-quickchart {\n",
              "    background-color: var(--bg-color);\n",
              "    border: none;\n",
              "    border-radius: 50%;\n",
              "    cursor: pointer;\n",
              "    display: none;\n",
              "    fill: var(--fill-color);\n",
              "    height: 32px;\n",
              "    padding: 0;\n",
              "    width: 32px;\n",
              "  }\n",
              "\n",
              "  .colab-df-quickchart:hover {\n",
              "    background-color: var(--hover-bg-color);\n",
              "    box-shadow: 0 1px 2px rgba(60, 64, 67, 0.3), 0 1px 3px 1px rgba(60, 64, 67, 0.15);\n",
              "    fill: var(--button-hover-fill-color);\n",
              "  }\n",
              "\n",
              "  .colab-df-quickchart-complete:disabled,\n",
              "  .colab-df-quickchart-complete:disabled:hover {\n",
              "    background-color: var(--disabled-bg-color);\n",
              "    fill: var(--disabled-fill-color);\n",
              "    box-shadow: none;\n",
              "  }\n",
              "\n",
              "  .colab-df-spinner {\n",
              "    border: 2px solid var(--fill-color);\n",
              "    border-color: transparent;\n",
              "    border-bottom-color: var(--fill-color);\n",
              "    animation:\n",
              "      spin 1s steps(1) infinite;\n",
              "  }\n",
              "\n",
              "  @keyframes spin {\n",
              "    0% {\n",
              "      border-color: transparent;\n",
              "      border-bottom-color: var(--fill-color);\n",
              "      border-left-color: var(--fill-color);\n",
              "    }\n",
              "    20% {\n",
              "      border-color: transparent;\n",
              "      border-left-color: var(--fill-color);\n",
              "      border-top-color: var(--fill-color);\n",
              "    }\n",
              "    30% {\n",
              "      border-color: transparent;\n",
              "      border-left-color: var(--fill-color);\n",
              "      border-top-color: var(--fill-color);\n",
              "      border-right-color: var(--fill-color);\n",
              "    }\n",
              "    40% {\n",
              "      border-color: transparent;\n",
              "      border-right-color: var(--fill-color);\n",
              "      border-top-color: var(--fill-color);\n",
              "    }\n",
              "    60% {\n",
              "      border-color: transparent;\n",
              "      border-right-color: var(--fill-color);\n",
              "    }\n",
              "    80% {\n",
              "      border-color: transparent;\n",
              "      border-right-color: var(--fill-color);\n",
              "      border-bottom-color: var(--fill-color);\n",
              "    }\n",
              "    90% {\n",
              "      border-color: transparent;\n",
              "      border-bottom-color: var(--fill-color);\n",
              "    }\n",
              "  }\n",
              "</style>\n",
              "\n",
              "  <script>\n",
              "    async function quickchart(key) {\n",
              "      const quickchartButtonEl =\n",
              "        document.querySelector('#' + key + ' button');\n",
              "      quickchartButtonEl.disabled = true;  // To prevent multiple clicks.\n",
              "      quickchartButtonEl.classList.add('colab-df-spinner');\n",
              "      try {\n",
              "        const charts = await google.colab.kernel.invokeFunction(\n",
              "            'suggestCharts', [key], {});\n",
              "      } catch (error) {\n",
              "        console.error('Error during call to suggestCharts:', error);\n",
              "      }\n",
              "      quickchartButtonEl.classList.remove('colab-df-spinner');\n",
              "      quickchartButtonEl.classList.add('colab-df-quickchart-complete');\n",
              "    }\n",
              "    (() => {\n",
              "      let quickchartButtonEl =\n",
              "        document.querySelector('#df-33bfeb55-5180-4f47-ad7c-583da6ff667b button');\n",
              "      quickchartButtonEl.style.display =\n",
              "        google.colab.kernel.accessAllowed ? 'block' : 'none';\n",
              "    })();\n",
              "  </script>\n",
              "</div>\n",
              "\n",
              "    </div>\n",
              "  </div>\n"
            ],
            "application/vnd.google.colaboratory.intrinsic+json": {
              "type": "dataframe",
              "summary": "{\n  \"name\": \"comparison_df\",\n  \"rows\": 32,\n  \"fields\": [\n    {\n      \"column\": \"cat\",\n      \"properties\": {\n        \"dtype\": \"string\",\n        \"num_unique_values\": 32,\n        \"samples\": [\n          \"1 0 1 1 0\",\n          \"0 1 0 1 0\",\n          \"0 0 0 0 0\"\n        ],\n        \"semantic_type\": \"\",\n        \"description\": \"\"\n      }\n    },\n    {\n      \"column\": \"df_uniques_counts\",\n      \"properties\": {\n        \"dtype\": \"number\",\n        \"std\": 5,\n        \"min\": 1,\n        \"max\": 23,\n        \"num_unique_values\": 15,\n        \"samples\": [\n          10,\n          14,\n          1\n        ],\n        \"semantic_type\": \"\",\n        \"description\": \"\"\n      }\n    },\n    {\n      \"column\": \"df_counts\",\n      \"properties\": {\n        \"dtype\": \"number\",\n        \"std\": 16,\n        \"min\": 225,\n        \"max\": 301,\n        \"num_unique_values\": 28,\n        \"samples\": [\n          255,\n          241,\n          233\n        ],\n        \"semantic_type\": \"\",\n        \"description\": \"\"\n      }\n    },\n    {\n      \"column\": \"unique_values\",\n      \"properties\": {\n        \"dtype\": \"object\",\n        \"semantic_type\": \"\",\n        \"description\": \"\"\n      }\n    }\n  ]\n}"
            }
          },
          "metadata": {},
          "execution_count": 2
        }
      ],
      "source": [
        "df = df.sort_values(\"cat\")\n",
        "df_uniques = df.drop_duplicates().groupby(\"cat\").size()\n",
        "df_counts = df.groupby(\"cat\").size()\n",
        "\n",
        "df_unique_values = df.groupby(\"cat\").agg(lambda x: list(x.unique()))\n",
        "df_unique_values = df_unique_values.iloc[:, 0]\n",
        "\n",
        "# Basically how robust a description is for a given cat\n",
        "comparison_df = pd.DataFrame({\"df_uniques_counts\": df_uniques,\n",
        "                              \"df_counts\": df_counts,\n",
        "                              \"unique_values\": df_unique_values\n",
        "                              })\n",
        "\n",
        "comparison_df.sort_values(\"df_uniques_counts\")"
      ]
    },
    {
      "cell_type": "code",
      "source": [
        "comparison_df.sort_values(\"df_uniques_counts\").to_csv(\"comparison.csv\", index=True)\n",
        "from google.colab import files\n",
        "files.download(\"comparison.csv\")"
      ],
      "metadata": {
        "colab": {
          "base_uri": "https://localhost:8080/",
          "height": 34
        },
        "id": "oGoki8tlXNG2",
        "outputId": "5f3a3338-e5fc-433d-a98b-e1e5b445e3c9"
      },
      "execution_count": null,
      "outputs": [
        {
          "output_type": "display_data",
          "data": {
            "text/plain": [
              "<IPython.core.display.Javascript object>"
            ],
            "application/javascript": [
              "\n",
              "    async function download(id, filename, size) {\n",
              "      if (!google.colab.kernel.accessAllowed) {\n",
              "        return;\n",
              "      }\n",
              "      const div = document.createElement('div');\n",
              "      const label = document.createElement('label');\n",
              "      label.textContent = `Downloading \"${filename}\": `;\n",
              "      div.appendChild(label);\n",
              "      const progress = document.createElement('progress');\n",
              "      progress.max = size;\n",
              "      div.appendChild(progress);\n",
              "      document.body.appendChild(div);\n",
              "\n",
              "      const buffers = [];\n",
              "      let downloaded = 0;\n",
              "\n",
              "      const channel = await google.colab.kernel.comms.open(id);\n",
              "      // Send a message to notify the kernel that we're ready.\n",
              "      channel.send({})\n",
              "\n",
              "      for await (const message of channel.messages) {\n",
              "        // Send a message to notify the kernel that we're ready.\n",
              "        channel.send({})\n",
              "        if (message.buffers) {\n",
              "          for (const buffer of message.buffers) {\n",
              "            buffers.push(buffer);\n",
              "            downloaded += buffer.byteLength;\n",
              "            progress.value = downloaded;\n",
              "          }\n",
              "        }\n",
              "      }\n",
              "      const blob = new Blob(buffers, {type: 'application/binary'});\n",
              "      const a = document.createElement('a');\n",
              "      a.href = window.URL.createObjectURL(blob);\n",
              "      a.download = filename;\n",
              "      div.appendChild(a);\n",
              "      a.click();\n",
              "      div.remove();\n",
              "    }\n",
              "  "
            ]
          },
          "metadata": {}
        },
        {
          "output_type": "display_data",
          "data": {
            "text/plain": [
              "<IPython.core.display.Javascript object>"
            ],
            "application/javascript": [
              "download(\"download_90f6665d-eb72-4c56-9b9a-619548b2badd\", \"comparison.csv\", 4195)"
            ]
          },
          "metadata": {}
        }
      ]
    },
    {
      "cell_type": "markdown",
      "source": [
        "## Archives"
      ],
      "metadata": {
        "id": "L15k0mrxQ5sV"
      }
    },
    {
      "cell_type": "code",
      "execution_count": null,
      "metadata": {
        "id": "-9sjuOKqOUGM"
      },
      "outputs": [],
      "source": [
        "def permutation(expression):\n",
        "  mi = test_feature(feature_f=(lambda signal: (re.search(expression, signal) is not None)), signals=signals, categories=categories)\n",
        "  if mi/math.log(2) != 0.0:\n",
        "    print(expression, mi/math.log(2))"
      ]
    },
    {
      "cell_type": "code",
      "execution_count": null,
      "metadata": {
        "colab": {
          "background_save": true
        },
        "id": "oyvgK_BiPPFL"
      },
      "outputs": [],
      "source": [
        "from itertools import permutations\n",
        "\n",
        "expressions = ['/1/', '/2/', '/4/', '/5/', '/6/', '/8/', '/9/', '/10/', '/11/', '/12/', '/13/', '/14/', '/15/']\n",
        "\n",
        "n = 3\n",
        "n_grams = [''.join(combo) for combo in permutations(expressions, n)]\n",
        "\n",
        "for gram in n_grams:\n",
        "  permutation(gram)\n",
        "\"\"\"\n",
        "for exp in expressions:\n",
        "  for expre in expressions:\n",
        "    if exp != expre:\n",
        "      permutation(exp + expre)\"\"\""
      ]
    },
    {
      "cell_type": "code",
      "execution_count": null,
      "metadata": {
        "id": "zv0sikbLrHOM"
      },
      "outputs": [],
      "source": [
        "def permutation2(expression):\n",
        "  regex = re.compile(expression)\n",
        "  mi = test_feature(\n",
        "      feature_f=(lambda signal: (re.search(expression, signal) is not None)),\n",
        "      signals=signals, categories=categories\n",
        "  )\n",
        "  if mi/math.log(2) != 0.0:\n",
        "    print(expression, mi/math.log(2))"
      ]
    },
    {
      "cell_type": "code",
      "execution_count": null,
      "metadata": {
        "colab": {
          "background_save": true
        },
        "id": "q_xXhVFGlrnO"
      },
      "outputs": [],
      "source": [
        "from itertools import permutations\n",
        "from multiprocessing import Pool\n",
        "\n",
        "expressions = ['/1/', '/2/', '/4/', '/5/', '/6/', '/8/', '/9/', '/10/', '/11/', '/12/', '/13/', '/14/', '/15/']\n",
        "\n",
        "n = 5\n",
        "n_grams = [''.join(combo) for combo in permutations(expressions, n)]\n",
        "\n",
        "with Pool() as pool:\n",
        "  pool.map(permutation, (''.join(gram) for gram in permutations(expressions, n)))"
      ]
    },
    {
      "cell_type": "code",
      "source": [
        "\"\"\"\n",
        "els = ['(/1/)', '(/2/)', '(/4/)', '(/5/)', '(/6/)', '(/7/)', '(/9/)',\n",
        "'(/10/)', '(/11/)', '(/12/)', '(/13/)', '(/14/)', '(/15/)']\n",
        "multiples = '{0}', '{1}', '{2}', '{3}', '{4}', '{5}', '{6}', '{7}', '{8}'\n",
        "unigr_out = []\n",
        "bigr_out_first = []\n",
        "bigr_out_second = []\n",
        "\n",
        "for el in els:\n",
        "  for ele in els:\n",
        "    for mul in multiples:\n",
        "      feat_unigr = el + mul\n",
        "      if el != ele:\n",
        "        feat_first = el + mul + ele\n",
        "        feat_second = el + ele + mul\n",
        "      mi = test_feature(feature_f=(lambda signal: (re.search(feat_unigr, signal) is not None)), signals=signals, categories=categories)\n",
        "      if mi/math.log(2) != 0.0 and mul != '{0}' and (feat_unigr, mi/math.log(2)) not in unigr_out:\n",
        "        unigr_out.append((feat_unigr, mi/math.log(2)))\n",
        "      mi = test_feature(feature_f=(lambda signal: (re.search(feat_first, signal) is not None)), signals=signals, categories=categories)\n",
        "      if mi/math.log(2) != 0.0 and mul != '{0}':\n",
        "        bigr_out_first.append((feat_first, mi/math.log(2)))\n",
        "      mi = test_feature(feature_f=(lambda signal: (re.search(feat_second, signal) is not None)), signals=signals, categories=categories)\n",
        "      if mi/math.log(2) != 0.0 and mul != '{0}':\n",
        "        bigr_out_second.append((feat_second, mi/math.log(2)))\n",
        "\n",
        "# next step: optimization then trigrams \"\"\""
      ],
      "metadata": {
        "id": "yuK1Gcdl2w7F"
      },
      "execution_count": null,
      "outputs": []
    },
    {
      "cell_type": "code",
      "source": [
        "\"\"\" Deprecated (it can be simpler)\n",
        "\n",
        "from itertools import product, permutations\n",
        "\n",
        "unigr_out = {}\n",
        "bigr_out_first = {}\n",
        "bigr_out_second = {}\n",
        "\n",
        "# ---Unigram generation---\n",
        "# A unigram is an element possibly multiplied by a factor in multiples\n",
        "for el, mul in product(els, multiples):\n",
        "  # Skip product of 0\n",
        "  if mul == '{0}':\n",
        "    continue\n",
        "  feat_unigr = el + mul\n",
        "  mi = test_feature(feature_f=(lambda signal, pattern=feat_unigr: re.search(pattern, signal) is not None),\n",
        "                    signals=signals, categories=categories)\n",
        "  value_uni = mi/log2\n",
        "  if value_uni != 0.0:\n",
        "    unigr_out[feat_unigr] = round(value_uni, 6)\n",
        "\n",
        "# ---Bigram generation---\n",
        "# A bigram are two order-sensitive elements combined with a multiple of either\n",
        "for el, ele, mul in product(els, els, multiples):\n",
        "  # Only consider bigrams with two different elements\n",
        "  if el == ele or mul == '{0}':\n",
        "    continue\n",
        "  feat_bi_first = el + mul + ele\n",
        "  feat_bi_second = el + ele + mul\n",
        "\n",
        "  mi_bi_first = test_feature(feature_f=(lambda signal, pattern=feat_bi_first: re.search(pattern, signal) is not None),\n",
        "                          signals=signals, categories=categories)\n",
        "  value_bi_first = mi_bi_first/log2\n",
        "  if value_bi_first != 0.0:\n",
        "    bigr_out_first[feat_bi_first] = round(value_bi_first, 6)\n",
        "\n",
        "  mi_bi_second = test_feature(feature_f=(lambda signal, pattern=feat_bi_second: re.search(pattern, signal) is not None),\n",
        "                          signals=signals, categories=categories)\n",
        "  value_bi_second = mi_bi_second/log2\n",
        "  if value_bi_second != 0.0:\n",
        "    bigr_out_second[feat_bi_second] = round(value_bi_second, 6) \"\"\""
      ],
      "metadata": {
        "id": "aP4UHCnx3KtE"
      },
      "execution_count": null,
      "outputs": []
    },
    {
      "cell_type": "code",
      "source": [
        "\"\"\" Deprecated! (it gets even simpler that that!)\n",
        "\n",
        "from itertools import permutations, combinations, product\n",
        "\n",
        "def generate_ordered_ngram_patterns(elements, multiples, n, n_multiples):\n",
        "\n",
        "  Generate ordered n-gram patterns with multiples of one or several elements.\n",
        "  Multiples are inserted into available slots.\n",
        "\n",
        "  els           - list of possible tokens\n",
        "  multiples     - list of multiplications for regex search\n",
        "  n             - number of tokens to consider for the n-gram\n",
        "  n_multiples   - number of tokens that will be multiplied\n",
        "\n",
        "  Yields string patterns (strings with tokens and inserted multiples regex-style).\n",
        "\n",
        "  for tokens in permutations(els, n):\n",
        "    slots = range(1, n+1)\n",
        "    for pos_indices in combinations(slots, n_multiples):  # num_multiples slots\n",
        "      for multi_tuple in product(multiples, repeat=n_multiples):\n",
        "        #if any(mul == '{0}' for mul in multi_tuple):\n",
        "        #  continue\n",
        "        pattern = ''\n",
        "        for i, token in enumerate(tokens):  # iterate over each slot index\n",
        "          pattern += token\n",
        "          if (i+1) in pos_indices:  # add corresponding multiple to selected slot\n",
        "            index = pos_indices.index(i+1)\n",
        "            pattern += multi_tuple[index]\n",
        "        yield pattern \"\"\""
      ],
      "metadata": {
        "id": "ARCxgpAw7-tg"
      },
      "execution_count": null,
      "outputs": []
    }
  ],
  "metadata": {
    "colab": {
      "provenance": [],
      "collapsed_sections": [
        "f4Hmw-C2YDmY",
        "L15k0mrxQ5sV"
      ]
    },
    "kernelspec": {
      "display_name": "Python 3",
      "name": "python3"
    },
    "language_info": {
      "name": "python"
    }
  },
  "nbformat": 4,
  "nbformat_minor": 0
}